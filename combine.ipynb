{
 "cells": [
  {
   "cell_type": "markdown",
   "metadata": {},
   "source": [
    "# Combine analyses across diseases"
   ]
  },
  {
   "cell_type": "code",
   "execution_count": 1,
   "metadata": {
    "collapsed": true
   },
   "outputs": [],
   "source": [
    "import os\n",
    "\n",
    "import pandas"
   ]
  },
  {
   "cell_type": "code",
   "execution_count": 2,
   "metadata": {
    "collapsed": false
   },
   "outputs": [],
   "source": [
    "# Read queries\n",
    "commit = '153688869fb87412dd716ac27994e51baeb16078'\n",
    "url = 'https://raw.githubusercontent.com/dhimmel/stargeo/{}/data/queries.tsv'.format(commit)\n",
    "query_df = pandas.read_table(url)\n",
    "query_df['doid'] = query_df.slim_id.map(lambda x: x.replace(':', '_'))"
   ]
  },
  {
   "cell_type": "code",
   "execution_count": 3,
   "metadata": {
    "collapsed": false
   },
   "outputs": [],
   "source": [
    "# Read files\n",
    "rows = list()\n",
    "filenames = ['log.txt', 'samples.tsv', 'meta.tsv']\n",
    "for doid in os.listdir('data'):\n",
    "    if not doid.startswith('DOID'):\n",
    "        continue\n",
    "    row = [os.path.exists(os.path.join('data', doid, filename)) for filename in filenames]\n",
    "    rows.append([doid] + row)\n",
    "\n",
    "file_df = pandas.DataFrame(rows, columns=['doid'] + filenames)\n",
    "file_df = query_df.merge(file_df)\n",
    "file_df.to_csv('data/files.tsv', sep='\\t', index=False)"
   ]
  },
  {
   "cell_type": "code",
   "execution_count": null,
   "metadata": {
    "collapsed": false,
    "scrolled": false
   },
   "outputs": [],
   "source": []
  },
  {
   "cell_type": "code",
   "execution_count": null,
   "metadata": {
    "collapsed": true
   },
   "outputs": [],
   "source": []
  }
 ],
 "metadata": {
  "kernelspec": {
   "display_name": "Python 3",
   "language": "python",
   "name": "python3"
  },
  "language_info": {
   "codemirror_mode": {
    "name": "ipython",
    "version": 3
   },
   "file_extension": ".py",
   "mimetype": "text/x-python",
   "name": "python",
   "nbconvert_exporter": "python",
   "pygments_lexer": "ipython3",
   "version": "3.5.0"
  }
 },
 "nbformat": 4,
 "nbformat_minor": 0
}
