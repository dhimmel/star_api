{
 "cells": [
  {
   "cell_type": "code",
   "execution_count": 1,
   "metadata": {
    "collapsed": false
   },
   "outputs": [
    {
     "name": "stderr",
     "output_type": "stream",
     "text": [
      "/Users/dex/anaconda/lib/python2.7/site-packages/pandas/rpy/__init__.py:11: FutureWarning: The pandas.rpy module is deprecated and will be removed in a future version. We refer to external packages like rpy2. \n",
      "See here for a guide on how to port your code to rpy2: http://pandas.pydata.org/pandas-docs/stable/r_interface.html\n",
      "  FutureWarning)\n"
     ]
    }
   ],
   "source": [
    "from analysis import *"
   ]
  },
  {
   "cell_type": "code",
   "execution_count": 2,
   "metadata": {
    "collapsed": false
   },
   "outputs": [
    {
     "data": {
      "text/plain": [
       "                         1675\n",
       "mb_cerebellum_control    1625\n",
       "gbm_samples               802\n",
       "gbm_controls              214\n",
       "mb_group4                 132\n",
       "dtype: int64"
      ]
     },
     "execution_count": 2,
     "metadata": {},
     "output_type": "execute_result"
    }
   ],
   "source": [
    "tokens = \"MB_Group4\",\"MB_Cerebellum_Control\", \"GBM_samples\", \"GBM_controls\"\n",
    "labels = query_tags_annotations(tokens)\n",
    "labels.annotation.value_counts()"
   ]
  },
  {
   "cell_type": "code",
   "execution_count": 3,
   "metadata": {
    "collapsed": false
   },
   "outputs": [
    {
     "name": "stdout",
     "output_type": "stream",
     "text": [
      "1/35 GSE13041 GPL8300\n",
      "2/35 GSE13041 GPL96\n",
      "3/35 GSE13162 GPL571\n",
      "4/35 GSE15824 GPL570\n",
      "5/35 GSE19504 GPL5175\n",
      "6/35 GSE21140 GPL5175\n",
      "7/35 GSE21166 GPL5175\n",
      "8/35 GSE28245 GPL6480\n",
      "9/35 GSE28894 GPL6104\n",
      "10/35 GSE3185 GPL8300\n",
      "11/35 GSE3185 GPL96\n",
      "12/35 GSE32374 GPL570\n",
      "13/35 GSE35619 GPL5175\n",
      "14/35 GSE35974 GPL6244\n",
      "15/35 GSE35978 GPL6244\n",
      "16/35 GSE36192 GPL6947\n",
      "17/35 GSE36245 GPL570\n",
      "18/35 GSE37418 GPL570\n",
      "19/35 GSE3790 GPL96\n",
      "20/35 GSE3790 GPL97\n",
      "21/35 GSE39182 GPL6480\n",
      "22/35 GSE4058 GPL182\n",
      "23/35 GSE4058 GPL2648\n",
      "24/35 GSE4058 GPL2778\n",
      "25/35 GSE4058 GPL2935\n",
      "26/35 GSE4058 GPL3010\n",
      "27/35 GSE41842 GPL6244\n",
      "28/35 GSE46706 GPL5175\n",
      "29/35 GSE50161 GPL570\n",
      "30/35 GSE5107 GPL96\n",
      "31/35 GSE53733 GPL570\n",
      "32/35 GSE8919 GPL2700\n",
      "33/35 GSE9171 GPL570\n",
      "34/35"
     ]
    },
    {
     "name": "stderr",
     "output_type": "stream",
     "text": [
      "/Users/dex/anaconda/lib/python2.7/site-packages/rpy2/robjects/functions.py:106: UserWarning: Loading required package: mgcv\n",
      "\n",
      "  res = super(Function, self).__call__(*new_args, **new_kwargs)\n",
      "/Users/dex/anaconda/lib/python2.7/site-packages/rpy2/robjects/functions.py:106: UserWarning: Loading required package: nlme\n",
      "\n",
      "  res = super(Function, self).__call__(*new_args, **new_kwargs)\n",
      "/Users/dex/anaconda/lib/python2.7/site-packages/rpy2/robjects/functions.py:106: UserWarning: This is mgcv 1.8-7. For overview type 'help(\"mgcv-package\")'.\n",
      "\n",
      "  res = super(Function, self).__call__(*new_args, **new_kwargs)\n",
      "/Users/dex/anaconda/lib/python2.7/site-packages/rpy2/robjects/functions.py:106: UserWarning: Loading required package: genefilter\n",
      "\n",
      "  res = super(Function, self).__call__(*new_args, **new_kwargs)\n",
      "/Users/dex/anaconda/lib/python2.7/site-packages/rpy2/robjects/functions.py:106: UserWarning: Creating a generic function for ‘nchar’ from package ‘base’ in package ‘S4Vectors’\n",
      "\n",
      "  res = super(Function, self).__call__(*new_args, **new_kwargs)\n"
     ]
    },
    {
     "name": "stdout",
     "output_type": "stream",
     "text": [
      " GSE68850 GPL570\n",
      "Found 23 batches\n",
      "Adjusting for 4 covariate(s) or covariate level(s)\n",
      "Standardizing Data across genes\n",
      "Fitting L/S model and finding priors\n",
      "Finding parametric adjustments\n",
      "Adjusting the Data\n"
     ]
    },
    {
     "name": "stderr",
     "output_type": "stream",
     "text": [
      "/Users/dex/anaconda/lib/python2.7/site-packages/rpy2/robjects/functions.py:106: UserWarning: \n",
      "Attaching package: ‘genefilter’\n",
      "\n",
      "\n",
      "  res = super(Function, self).__call__(*new_args, **new_kwargs)\n",
      "/Users/dex/anaconda/lib/python2.7/site-packages/rpy2/robjects/functions.py:106: UserWarning: The following object is masked from ‘package:base’:\n",
      "\n",
      "    anyNA\n",
      "\n",
      "\n",
      "  res = super(Function, self).__call__(*new_args, **new_kwargs)\n"
     ]
    }
   ],
   "source": [
    "combat_matrix, samples  = combat(labels)"
   ]
  },
  {
   "cell_type": "code",
   "execution_count": null,
   "metadata": {
    "collapsed": true
   },
   "outputs": [],
   "source": [
    "combat_matrix.to_csv(\"combat_brain.csv\")\n",
    "samples.to_csv(\"combat_brain_samples.csv\")"
   ]
  }
 ],
 "metadata": {
  "kernelspec": {
   "display_name": "Python 2",
   "language": "python",
   "name": "python2"
  },
  "language_info": {
   "codemirror_mode": {
    "name": "ipython",
    "version": 2
   },
   "file_extension": ".py",
   "mimetype": "text/x-python",
   "name": "python",
   "nbconvert_exporter": "python",
   "pygments_lexer": "ipython2",
   "version": "2.7.10"
  }
 },
 "nbformat": 4,
 "nbformat_minor": 0
}
