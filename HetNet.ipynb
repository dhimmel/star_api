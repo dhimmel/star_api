{
 "cells": [
  {
   "cell_type": "code",
   "execution_count": 1,
   "metadata": {
    "collapsed": false
   },
   "outputs": [],
   "source": [
    "import logging\n",
    "import os\n",
    "import gzip\n",
    "\n",
    "import pandas\n",
    "import easydict\n",
    "\n",
    "import analysis"
   ]
  },
  {
   "cell_type": "code",
   "execution_count": 2,
   "metadata": {
    "collapsed": true
   },
   "outputs": [],
   "source": [
    "analysis.logger.propagate = False"
   ]
  },
  {
   "cell_type": "code",
   "execution_count": 3,
   "metadata": {
    "collapsed": false
   },
   "outputs": [
    {
     "data": {
      "text/html": [
       "<div>\n",
       "<table border=\"1\" class=\"dataframe\">\n",
       "  <thead>\n",
       "    <tr style=\"text-align: right;\">\n",
       "      <th></th>\n",
       "      <th>slim_id</th>\n",
       "      <th>slim_name</th>\n",
       "      <th>case_query</th>\n",
       "      <th>control_query</th>\n",
       "    </tr>\n",
       "  </thead>\n",
       "  <tbody>\n",
       "    <tr>\n",
       "      <th>0</th>\n",
       "      <td>DOID:0050156</td>\n",
       "      <td>idiopathic pulmonary fibrosis</td>\n",
       "      <td>IPF == 'IPF'</td>\n",
       "      <td>IPF_control == 'IPF_control'</td>\n",
       "    </tr>\n",
       "    <tr>\n",
       "      <th>1</th>\n",
       "      <td>DOID:0050741</td>\n",
       "      <td>alcohol dependence</td>\n",
       "      <td>alcoholism == 'alcoholism'</td>\n",
       "      <td>alcoholism_control == 'alcoholism_control'</td>\n",
       "    </tr>\n",
       "    <tr>\n",
       "      <th>2</th>\n",
       "      <td>DOID:0050742</td>\n",
       "      <td>nicotine dependence</td>\n",
       "      <td>Smoker == 'Smoker'</td>\n",
       "      <td>Nonsmoker == 'Nonsmoker'</td>\n",
       "    </tr>\n",
       "    <tr>\n",
       "      <th>3</th>\n",
       "      <td>DOID:1024</td>\n",
       "      <td>leprosy</td>\n",
       "      <td>borderline_leprosy == 'borderline_leprosy' or ...</td>\n",
       "      <td>leprosy_control == 'leprosy_control'</td>\n",
       "    </tr>\n",
       "    <tr>\n",
       "      <th>4</th>\n",
       "      <td>DOID:10283</td>\n",
       "      <td>prostate cancer</td>\n",
       "      <td>PC == 'PC' or PC_tissue_case == 'PC_tissue_case'</td>\n",
       "      <td>PC_control == 'PC_control' or PC_tissue_contro...</td>\n",
       "    </tr>\n",
       "  </tbody>\n",
       "</table>\n",
       "</div>"
      ],
      "text/plain": [
       "        slim_id                      slim_name  \\\n",
       "0  DOID:0050156  idiopathic pulmonary fibrosis   \n",
       "1  DOID:0050741             alcohol dependence   \n",
       "2  DOID:0050742            nicotine dependence   \n",
       "3     DOID:1024                        leprosy   \n",
       "4    DOID:10283                prostate cancer   \n",
       "\n",
       "                                          case_query  \\\n",
       "0                                       IPF == 'IPF'   \n",
       "1                         alcoholism == 'alcoholism'   \n",
       "2                                 Smoker == 'Smoker'   \n",
       "3  borderline_leprosy == 'borderline_leprosy' or ...   \n",
       "4   PC == 'PC' or PC_tissue_case == 'PC_tissue_case'   \n",
       "\n",
       "                                       control_query  \n",
       "0                       IPF_control == 'IPF_control'  \n",
       "1         alcoholism_control == 'alcoholism_control'  \n",
       "2                           Nonsmoker == 'Nonsmoker'  \n",
       "3               leprosy_control == 'leprosy_control'  \n",
       "4  PC_control == 'PC_control' or PC_tissue_contro...  "
      ]
     },
     "execution_count": 3,
     "metadata": {},
     "output_type": "execute_result"
    }
   ],
   "source": [
    "commit = '153688869fb87412dd716ac27994e51baeb16078'\n",
    "url = 'https://raw.githubusercontent.com/dhimmel/stargeo/{}/data/queries.tsv'.format(commit)\n",
    "query_df = pandas.read_table(url)\n",
    "query_df.head()"
   ]
  },
  {
   "cell_type": "code",
   "execution_count": 4,
   "metadata": {
    "collapsed": false
   },
   "outputs": [
    {
     "name": "stderr",
     "output_type": "stream",
     "text": [
      "analysis.py:164: FutureWarning: convert_objects is deprecated.  Use the data-type specific converters pd.to_datetime, pd.to_timedelta and pd.to_numeric.\n",
      "  df = df.convert_objects(convert_numeric=True)\n",
      "/home/dhimmels/anaconda3/envs/python2/lib/python2.7/site-packages/pandas/core/indexing.py:115: SettingWithCopyWarning: \n",
      "A value is trying to be set on a copy of a slice from a DataFrame\n",
      "\n",
      "See the caveats in the documentation: http://pandas.pydata.org/pandas-docs/stable/indexing.html#indexing-view-versus-copy\n",
      "  self._setitem_with_indexer(indexer, value)\n",
      "/home/dhimmels/anaconda3/envs/python2/lib/python2.7/site-packages/pandas/core/index.py:4281: FutureWarning: elementwise comparison failed; returning scalar instead, but in the future will perform elementwise comparison\n",
      "  return np.sum(name == np.asarray(self.names)) > 1\n",
      "/home/dhimmels/anaconda3/envs/python2/lib/python2.7/site-packages/funcy/debug.py:100: DtypeWarning: Columns (0) have mixed types. Specify dtype option on import or set low_memory=False.\n",
      "  return func(*args, **kwargs)\n",
      "analysis.py:361: SettingWithCopyWarning: \n",
      "A value is trying to be set on a copy of a slice from a DataFrame.\n",
      "Try using .loc[row_indexer,col_indexer] = value instead\n",
      "\n",
      "See the caveats in the documentation: http://pandas.pydata.org/pandas-docs/stable/indexing.html#indexing-view-versus-copy\n",
      "  samples['subset'] = \"NA\"\n",
      "analysis.py:319: FutureWarning: sort(columns=....) is deprecated, use sort_values(by=.....)\n",
      "  allGeneEstimates = fcResults.sort('p') \\\n"
     ]
    },
    {
     "name": "stdout",
     "output_type": "stream",
     "text": [
      "0 DOID:0050156 idiopathic pulmonary fibrosis\n",
      "1 DOID:0050741 alcohol dependence\n",
      "2 DOID:0050742 nicotine dependence\n",
      "3 DOID:1024 leprosy\n",
      "4 DOID:10283 prostate cancer\n",
      "5 DOID:10534 stomach cancer\n",
      "6 DOID:10608 celiac disease\n",
      "7 DOID:10652 Alzheimer's disease\n",
      "8 DOID:10763 hypertension\n",
      "9 DOID:10871 age related macular degeneration\n",
      "10 DOID:1094 attention deficit hyperactivity disorder\n",
      "11 DOID:11054 urinary bladder cancer\n",
      "12 DOID:11612 polycystic ovary syndrome\n",
      "13 DOID:11714 gestational diabetes\n",
      "14 DOID:11949 Creutzfeldt-Jakob disease\n",
      "15 DOID:12306 vitiligo\n",
      "16 DOID:12365 malaria\n",
      "17 DOID:12849 autistic disorder\n",
      "18 DOID:13223 uterine fibroid\n",
      "19 DOID:1324 lung cancer\n",
      "20 DOID:13241 Behcet's disease\n",
      "21 DOID:13378 Kawasaki disease\n",
      "22 DOID:14221 metabolic syndrome X\n",
      "23 DOID:14227 azoospermia\n",
      "24 DOID:14330 Parkinson's disease\n",
      "25 DOID:1595 endogenous depression\n",
      "26 DOID:1612 breast cancer\n",
      "27 DOID:1686 glaucoma\n",
      "28 DOID:1793 pancreatic cancer\n",
      "29 DOID:1909 melanoma\n",
      "30 DOID:1936 atherosclerosis\n",
      "31 DOID:219 colon cancer\n",
      "32 DOID:2377 multiple sclerosis\n",
      "33 DOID:2394 ovarian cancer\n",
      "34 DOID:2531 hematologic cancer\n",
      "35 DOID:263 kidney cancer\n",
      "36 DOID:2841 asthma\n",
      "37 DOID:2986 IgA glomerulonephritis\n",
      "38 DOID:2998 testicular cancer\n",
      "39 DOID:3083 chronic obstructive pulmonary disease\n",
      "40 DOID:3310 atopic dermatitis\n",
      "41 DOID:3312 bipolar disorder\n",
      "42 DOID:332 amyotrophic lateral sclerosis\n",
      "43 DOID:3393 coronary artery disease\n",
      "44 DOID:418 systemic scleroderma\n",
      "45 DOID:4481 allergic rhinitis\n",
      "46 DOID:4606 bile duct cancer\n",
      "47 DOID:5419 schizophrenia\n",
      "48 DOID:635 acquired immunodeficiency syndrome\n",
      "49 DOID:7147 ankylosing spondylitis\n",
      "50 DOID:7148 rheumatoid arthritis\n",
      "51 DOID:7693 abdominal aortic aneurysm\n",
      "52 DOID:784 chronic kidney failure\n",
      "53 DOID:824 periodontitis\n",
      "54 DOID:8577 ulcerative colitis\n",
      "55 DOID:8778 Crohn's disease\n",
      "56 DOID:8893 psoriasis\n",
      "57 DOID:8986 narcolepsy\n",
      "58 DOID:9008 psoriatic arthritis\n",
      "59 DOID:9074 systemic lupus erythematosus\n",
      "60 DOID:9206 Barrett's esophagus\n",
      "61 DOID:9296 cleft lip\n",
      "62 DOID:9352 type 2 diabetes mellitus\n",
      "63 DOID:9744 type 1 diabetes mellitus\n",
      "64 DOID:986 alopecia areata\n",
      "65 DOID:9970 obesity\n"
     ]
    },
    {
     "name": "stderr",
     "output_type": "stream",
     "text": [
      "/home/dhimmels/anaconda3/envs/python2/lib/python2.7/site-packages/pandas/core/groupby.py:2649: VisibleDeprecationWarning: boolean index did not match indexed array along dimension 0; dimension is 0 but corresponding boolean dimension is 1\n",
      "  labels = list(map(rep, self.grouper.recons_labels)) + [lab[inc]]\n"
     ]
    }
   ],
   "source": [
    "for i, row in query_df.iterrows():\n",
    "    print i, row.slim_id, row.slim_name\n",
    "\n",
    "    name = row.slim_id.replace(':', '_')\n",
    "    params = easydict.EasyDict(\n",
    "        analysis_name = name,\n",
    "        case_query = row.case_query,\n",
    "        control_query = row.control_query,\n",
    "        modifier_query = '',\n",
    "        min_samples = 3,\n",
    "    )\n",
    "    \n",
    "    directory = 'data/{}'.format(params.analysis_name)\n",
    "    if not os.path.isdir(directory):\n",
    "        os.mkdir(directory)\n",
    "\n",
    "    logfile = logging.FileHandler('{}/log.txt'.format(directory))\n",
    "    logfile.setLevel(logging.DEBUG)\n",
    "    analysis.logger.addHandler(logfile)\n",
    "    try:\n",
    "        sample_df, result_df = analysis.perform_analysis(params)\n",
    "    except:\n",
    "        sample_df, result_df = None, None\n",
    "    analysis.logger.removeHandler(logfile)\n",
    "    if sample_df is not None:\n",
    "        path = '{}/samples.tsv'.format(directory)\n",
    "        sample_df.to_csv(path, index=False, sep='\\t')\n",
    "        \n",
    "    if result_df is not None:\n",
    "        path = '{}/meta.tsv'.format(directory)\n",
    "        result_df.to_csv(path, index=False, sep='\\t', float_format='%.5g')"
   ]
  },
  {
   "cell_type": "code",
   "execution_count": 5,
   "metadata": {
    "collapsed": false
   },
   "outputs": [],
   "source": [
    "#analysis.get_analysis_df(params.case_query, params.control_query, params.modifier_query)"
   ]
  },
  {
   "cell_type": "code",
   "execution_count": null,
   "metadata": {
    "collapsed": true
   },
   "outputs": [],
   "source": []
  }
 ],
 "metadata": {
  "kernelspec": {
   "display_name": "Python 2",
   "language": "python",
   "name": "python2"
  },
  "language_info": {
   "codemirror_mode": {
    "name": "ipython",
    "version": 2
   },
   "file_extension": ".py",
   "mimetype": "text/x-python",
   "name": "python",
   "nbconvert_exporter": "python",
   "pygments_lexer": "ipython2",
   "version": "2.7.10"
  }
 },
 "nbformat": 4,
 "nbformat_minor": 0
}
