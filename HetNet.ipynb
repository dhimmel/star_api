{
 "cells": [
  {
   "cell_type": "code",
   "execution_count": 1,
   "metadata": {
    "collapsed": false
   },
   "outputs": [],
   "source": [
    "import logging\n",
    "import os\n",
    "import gzip\n",
    "\n",
    "import pandas\n",
    "import easydict\n",
    "\n",
    "import analysis"
   ]
  },
  {
   "cell_type": "code",
   "execution_count": 2,
   "metadata": {
    "collapsed": true
   },
   "outputs": [],
   "source": [
    "analysis.logger.propagate = False"
   ]
  },
  {
   "cell_type": "code",
   "execution_count": 3,
   "metadata": {
    "collapsed": false
   },
   "outputs": [
    {
     "data": {
      "text/html": [
       "<div>\n",
       "<table border=\"1\" class=\"dataframe\">\n",
       "  <thead>\n",
       "    <tr style=\"text-align: right;\">\n",
       "      <th></th>\n",
       "      <th>slim_id</th>\n",
       "      <th>slim_name</th>\n",
       "      <th>case_query</th>\n",
       "      <th>control_query</th>\n",
       "    </tr>\n",
       "  </thead>\n",
       "  <tbody>\n",
       "    <tr>\n",
       "      <th>0</th>\n",
       "      <td>DOID:0050156</td>\n",
       "      <td>idiopathic pulmonary fibrosis</td>\n",
       "      <td>IPF == 'IPF'</td>\n",
       "      <td>IPF_control == 'IPF_control'</td>\n",
       "    </tr>\n",
       "    <tr>\n",
       "      <th>1</th>\n",
       "      <td>DOID:0050741</td>\n",
       "      <td>alcohol dependence</td>\n",
       "      <td>alcoholism == 'alcoholism'</td>\n",
       "      <td>alcoholism_control == 'alcoholism_control'</td>\n",
       "    </tr>\n",
       "    <tr>\n",
       "      <th>2</th>\n",
       "      <td>DOID:0050742</td>\n",
       "      <td>nicotine dependence</td>\n",
       "      <td>Smoker == 'Smoker'</td>\n",
       "      <td>Nonsmoker == 'Nonsmoker'</td>\n",
       "    </tr>\n",
       "    <tr>\n",
       "      <th>3</th>\n",
       "      <td>DOID:1024</td>\n",
       "      <td>leprosy</td>\n",
       "      <td>borderline_leprosy == 'borderline_leprosy' or ...</td>\n",
       "      <td>leprosy_control == 'leprosy_control'</td>\n",
       "    </tr>\n",
       "    <tr>\n",
       "      <th>4</th>\n",
       "      <td>DOID:10283</td>\n",
       "      <td>prostate cancer</td>\n",
       "      <td>PC == 'PC' or PC_tissue_case == 'PC_tissue_case'</td>\n",
       "      <td>PC_control == 'PC_control' or PC_tissue_contro...</td>\n",
       "    </tr>\n",
       "  </tbody>\n",
       "</table>\n",
       "</div>"
      ],
      "text/plain": [
       "        slim_id                      slim_name  \\\n",
       "0  DOID:0050156  idiopathic pulmonary fibrosis   \n",
       "1  DOID:0050741             alcohol dependence   \n",
       "2  DOID:0050742            nicotine dependence   \n",
       "3     DOID:1024                        leprosy   \n",
       "4    DOID:10283                prostate cancer   \n",
       "\n",
       "                                          case_query  \\\n",
       "0                                       IPF == 'IPF'   \n",
       "1                         alcoholism == 'alcoholism'   \n",
       "2                                 Smoker == 'Smoker'   \n",
       "3  borderline_leprosy == 'borderline_leprosy' or ...   \n",
       "4   PC == 'PC' or PC_tissue_case == 'PC_tissue_case'   \n",
       "\n",
       "                                       control_query  \n",
       "0                       IPF_control == 'IPF_control'  \n",
       "1         alcoholism_control == 'alcoholism_control'  \n",
       "2                           Nonsmoker == 'Nonsmoker'  \n",
       "3               leprosy_control == 'leprosy_control'  \n",
       "4  PC_control == 'PC_control' or PC_tissue_contro...  "
      ]
     },
     "execution_count": 3,
     "metadata": {},
     "output_type": "execute_result"
    }
   ],
   "source": [
    "commit = '153688869fb87412dd716ac27994e51baeb16078'\n",
    "url = 'https://raw.githubusercontent.com/dhimmel/stargeo/{}/data/queries.tsv'.format(commit)\n",
    "query_df = pandas.read_table(url)\n",
    "query_df.head()"
   ]
  },
  {
   "cell_type": "code",
   "execution_count": 4,
   "metadata": {
    "collapsed": false
   },
   "outputs": [
    {
     "name": "stderr",
     "output_type": "stream",
     "text": [
      "analysis.py:164: FutureWarning: convert_objects is deprecated.  Use the data-type specific converters pd.to_datetime, pd.to_timedelta and pd.to_numeric.\n",
      "  df = df.convert_objects(convert_numeric=True)\n",
      "/home/dhimmels/anaconda3/envs/python2/lib/python2.7/site-packages/pandas/core/indexing.py:115: SettingWithCopyWarning: \n",
      "A value is trying to be set on a copy of a slice from a DataFrame\n",
      "\n",
      "See the caveats in the documentation: http://pandas.pydata.org/pandas-docs/stable/indexing.html#indexing-view-versus-copy\n",
      "  self._setitem_with_indexer(indexer, value)\n",
      "/home/dhimmels/anaconda3/envs/python2/lib/python2.7/site-packages/pandas/core/index.py:4281: FutureWarning: elementwise comparison failed; returning scalar instead, but in the future will perform elementwise comparison\n",
      "  return np.sum(name == np.asarray(self.names)) > 1\n",
      "/home/dhimmels/anaconda3/envs/python2/lib/python2.7/site-packages/funcy/debug.py:100: DtypeWarning: Columns (0) have mixed types. Specify dtype option on import or set low_memory=False.\n",
      "  return func(*args, **kwargs)\n",
      "analysis.py:361: SettingWithCopyWarning: \n",
      "A value is trying to be set on a copy of a slice from a DataFrame.\n",
      "Try using .loc[row_indexer,col_indexer] = value instead\n",
      "\n",
      "See the caveats in the documentation: http://pandas.pydata.org/pandas-docs/stable/indexing.html#indexing-view-versus-copy\n",
      "  samples['subset'] = \"NA\"\n",
      "analysis.py:319: FutureWarning: sort(columns=....) is deprecated, use sort_values(by=.....)\n",
      "  allGeneEstimates = fcResults.sort('p') \\\n"
     ]
    },
    {
     "name": "stdout",
     "output_type": "stream",
     "text": [
      "0 DOID:0050156 idiopathic pulmonary fibrosis\n"
     ]
    },
    {
     "ename": "ValueError",
     "evalue": "The truth value of a DataFrame is ambiguous. Use a.empty, a.bool(), a.item(), a.any() or a.all().",
     "output_type": "error",
     "traceback": [
      "\u001b[1;31m---------------------------------------------------------------------------\u001b[0m",
      "\u001b[1;31mValueError\u001b[0m                                Traceback (most recent call last)",
      "\u001b[1;32m<ipython-input-4-ed1d3924560a>\u001b[0m in \u001b[0;36m<module>\u001b[1;34m()\u001b[0m\n\u001b[1;32m----> 1\u001b[1;33m \u001b[0mget_ipython\u001b[0m\u001b[1;33m(\u001b[0m\u001b[1;33m)\u001b[0m\u001b[1;33m.\u001b[0m\u001b[0mrun_cell_magic\u001b[0m\u001b[1;33m(\u001b[0m\u001b[1;34mu'time'\u001b[0m\u001b[1;33m,\u001b[0m \u001b[1;34mu''\u001b[0m\u001b[1;33m,\u001b[0m \u001b[1;34mu\"for i, row in query_df.iterrows():\\n    print i, row.slim_id, row.slim_name\\n\\n    name = row.slim_id.replace(':', '_')\\n    params = easydict.EasyDict(\\n        analysis_name = name,\\n        case_query = row.case_query,\\n        control_query = row.control_query,\\n        modifier_query = '',\\n        min_samples = 3,\\n    )\\n    \\n    directory = 'data/{}'.format(params.analysis_name)\\n    if not os.path.isdir(directory):\\n        os.mkdir(directory)\\n\\n    logfile = logging.FileHandler('{}/log.txt'.format(directory))\\n    logfile.setLevel(logging.DEBUG)\\n    analysis.logger.addHandler(logfile)\\n    sample_df, result_df = analysis.perform_analysis(params)\\n    path = '{}/samples.tsv'.format(directory)\\n    sample_df.to_csv(path, index=False, sep='\\\\t')\\n    analysis.logger.removeHandler(logfile)\\n    if result_df:\\n        path = '{}/meta.tsv'.format(directory)\\n        result_df.to_csv(path, index=False, sep='\\\\t', float_format='%.5g')\"\u001b[0m\u001b[1;33m)\u001b[0m\u001b[1;33m\u001b[0m\u001b[0m\n\u001b[0m",
      "\u001b[1;32m/home/dhimmels/anaconda3/envs/python2/lib/python2.7/site-packages/IPython/core/interactiveshell.pyc\u001b[0m in \u001b[0;36mrun_cell_magic\u001b[1;34m(self, magic_name, line, cell)\u001b[0m\n\u001b[0;32m   2291\u001b[0m             \u001b[0mmagic_arg_s\u001b[0m \u001b[1;33m=\u001b[0m \u001b[0mself\u001b[0m\u001b[1;33m.\u001b[0m\u001b[0mvar_expand\u001b[0m\u001b[1;33m(\u001b[0m\u001b[0mline\u001b[0m\u001b[1;33m,\u001b[0m \u001b[0mstack_depth\u001b[0m\u001b[1;33m)\u001b[0m\u001b[1;33m\u001b[0m\u001b[0m\n\u001b[0;32m   2292\u001b[0m             \u001b[1;32mwith\u001b[0m \u001b[0mself\u001b[0m\u001b[1;33m.\u001b[0m\u001b[0mbuiltin_trap\u001b[0m\u001b[1;33m:\u001b[0m\u001b[1;33m\u001b[0m\u001b[0m\n\u001b[1;32m-> 2293\u001b[1;33m                 \u001b[0mresult\u001b[0m \u001b[1;33m=\u001b[0m \u001b[0mfn\u001b[0m\u001b[1;33m(\u001b[0m\u001b[0mmagic_arg_s\u001b[0m\u001b[1;33m,\u001b[0m \u001b[0mcell\u001b[0m\u001b[1;33m)\u001b[0m\u001b[1;33m\u001b[0m\u001b[0m\n\u001b[0m\u001b[0;32m   2294\u001b[0m             \u001b[1;32mreturn\u001b[0m \u001b[0mresult\u001b[0m\u001b[1;33m\u001b[0m\u001b[0m\n\u001b[0;32m   2295\u001b[0m \u001b[1;33m\u001b[0m\u001b[0m\n",
      "\u001b[1;32m/home/dhimmels/anaconda3/envs/python2/lib/python2.7/site-packages/IPython/core/magics/execution.pyc\u001b[0m in \u001b[0;36mtime\u001b[1;34m(self, line, cell, local_ns)\u001b[0m\n",
      "\u001b[1;32m/home/dhimmels/anaconda3/envs/python2/lib/python2.7/site-packages/IPython/core/magic.pyc\u001b[0m in \u001b[0;36m<lambda>\u001b[1;34m(f, *a, **k)\u001b[0m\n\u001b[0;32m    191\u001b[0m     \u001b[1;31m# but it's overkill for just that one bit of state.\u001b[0m\u001b[1;33m\u001b[0m\u001b[1;33m\u001b[0m\u001b[0m\n\u001b[0;32m    192\u001b[0m     \u001b[1;32mdef\u001b[0m \u001b[0mmagic_deco\u001b[0m\u001b[1;33m(\u001b[0m\u001b[0marg\u001b[0m\u001b[1;33m)\u001b[0m\u001b[1;33m:\u001b[0m\u001b[1;33m\u001b[0m\u001b[0m\n\u001b[1;32m--> 193\u001b[1;33m         \u001b[0mcall\u001b[0m \u001b[1;33m=\u001b[0m \u001b[1;32mlambda\u001b[0m \u001b[0mf\u001b[0m\u001b[1;33m,\u001b[0m \u001b[1;33m*\u001b[0m\u001b[0ma\u001b[0m\u001b[1;33m,\u001b[0m \u001b[1;33m**\u001b[0m\u001b[0mk\u001b[0m\u001b[1;33m:\u001b[0m \u001b[0mf\u001b[0m\u001b[1;33m(\u001b[0m\u001b[1;33m*\u001b[0m\u001b[0ma\u001b[0m\u001b[1;33m,\u001b[0m \u001b[1;33m**\u001b[0m\u001b[0mk\u001b[0m\u001b[1;33m)\u001b[0m\u001b[1;33m\u001b[0m\u001b[0m\n\u001b[0m\u001b[0;32m    194\u001b[0m \u001b[1;33m\u001b[0m\u001b[0m\n\u001b[0;32m    195\u001b[0m         \u001b[1;32mif\u001b[0m \u001b[0mcallable\u001b[0m\u001b[1;33m(\u001b[0m\u001b[0marg\u001b[0m\u001b[1;33m)\u001b[0m\u001b[1;33m:\u001b[0m\u001b[1;33m\u001b[0m\u001b[0m\n",
      "\u001b[1;32m/home/dhimmels/anaconda3/envs/python2/lib/python2.7/site-packages/IPython/core/magics/execution.pyc\u001b[0m in \u001b[0;36mtime\u001b[1;34m(self, line, cell, local_ns)\u001b[0m\n\u001b[0;32m   1165\u001b[0m         \u001b[1;32melse\u001b[0m\u001b[1;33m:\u001b[0m\u001b[1;33m\u001b[0m\u001b[0m\n\u001b[0;32m   1166\u001b[0m             \u001b[0mst\u001b[0m \u001b[1;33m=\u001b[0m \u001b[0mclock2\u001b[0m\u001b[1;33m(\u001b[0m\u001b[1;33m)\u001b[0m\u001b[1;33m\u001b[0m\u001b[0m\n\u001b[1;32m-> 1167\u001b[1;33m             \u001b[1;32mexec\u001b[0m\u001b[1;33m(\u001b[0m\u001b[0mcode\u001b[0m\u001b[1;33m,\u001b[0m \u001b[0mglob\u001b[0m\u001b[1;33m,\u001b[0m \u001b[0mlocal_ns\u001b[0m\u001b[1;33m)\u001b[0m\u001b[1;33m\u001b[0m\u001b[0m\n\u001b[0m\u001b[0;32m   1168\u001b[0m             \u001b[0mend\u001b[0m \u001b[1;33m=\u001b[0m \u001b[0mclock2\u001b[0m\u001b[1;33m(\u001b[0m\u001b[1;33m)\u001b[0m\u001b[1;33m\u001b[0m\u001b[0m\n\u001b[0;32m   1169\u001b[0m             \u001b[0mout\u001b[0m \u001b[1;33m=\u001b[0m \u001b[0mNone\u001b[0m\u001b[1;33m\u001b[0m\u001b[0m\n",
      "\u001b[1;32m<timed exec>\u001b[0m in \u001b[0;36m<module>\u001b[1;34m()\u001b[0m\n",
      "\u001b[1;32m/home/dhimmels/anaconda3/envs/python2/lib/python2.7/site-packages/pandas/core/generic.pyc\u001b[0m in \u001b[0;36m__nonzero__\u001b[1;34m(self)\u001b[0m\n\u001b[0;32m    728\u001b[0m         raise ValueError(\"The truth value of a {0} is ambiguous. \"\n\u001b[0;32m    729\u001b[0m                          \u001b[1;34m\"Use a.empty, a.bool(), a.item(), a.any() or a.all().\"\u001b[0m\u001b[1;33m\u001b[0m\u001b[0m\n\u001b[1;32m--> 730\u001b[1;33m                          .format(self.__class__.__name__))\n\u001b[0m\u001b[0;32m    731\u001b[0m \u001b[1;33m\u001b[0m\u001b[0m\n\u001b[0;32m    732\u001b[0m     \u001b[0m__bool__\u001b[0m \u001b[1;33m=\u001b[0m \u001b[0m__nonzero__\u001b[0m\u001b[1;33m\u001b[0m\u001b[0m\n",
      "\u001b[1;31mValueError\u001b[0m: The truth value of a DataFrame is ambiguous. Use a.empty, a.bool(), a.item(), a.any() or a.all()."
     ]
    }
   ],
   "source": [
    "for i, row in query_df.iterrows():\n",
    "    print i, row.slim_id, row.slim_name\n",
    "\n",
    "    name = row.slim_id.replace(':', '_')\n",
    "    params = easydict.EasyDict(\n",
    "        analysis_name = name,\n",
    "        case_query = row.case_query,\n",
    "        control_query = row.control_query,\n",
    "        modifier_query = '',\n",
    "        min_samples = 3,\n",
    "    )\n",
    "    \n",
    "    directory = 'data/{}'.format(params.analysis_name)\n",
    "    if not os.path.isdir(directory):\n",
    "        os.mkdir(directory)\n",
    "\n",
    "    logfile = logging.FileHandler('{}/log.txt'.format(directory))\n",
    "    logfile.setLevel(logging.DEBUG)\n",
    "    analysis.logger.addHandler(logfile)\n",
    "    sample_df, result_df = analysis.perform_analysis(params)\n",
    "    path = '{}/samples.tsv'.format(directory)\n",
    "    sample_df.to_csv(path, index=False, sep='\\t')\n",
    "    analysis.logger.removeHandler(logfile)\n",
    "    if not result_df:\n",
    "        continue\n",
    "    path = '{}/meta.tsv'.format(directory)\n",
    "    result_df.to_csv(path, index=False, sep='\\t', float_format='%.5g')"
   ]
  }
 ],
 "metadata": {
  "kernelspec": {
   "display_name": "Python 2",
   "language": "python",
   "name": "python2"
  },
  "language_info": {
   "codemirror_mode": {
    "name": "ipython",
    "version": 2
   },
   "file_extension": ".py",
   "mimetype": "text/x-python",
   "name": "python",
   "nbconvert_exporter": "python",
   "pygments_lexer": "ipython2",
   "version": "2.7.10"
  }
 },
 "nbformat": 4,
 "nbformat_minor": 0
}
